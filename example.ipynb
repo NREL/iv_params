{
 "cells": [
  {
   "cell_type": "code",
   "execution_count": 1,
   "metadata": {},
   "outputs": [],
   "source": [
    "import pvlib\n",
    "import numpy as np\n",
    "\n",
    "from iv_params import IV_Params"
   ]
  },
  {
   "cell_type": "markdown",
   "metadata": {},
   "source": [
    "# Set up an example IV curve"
   ]
  },
  {
   "cell_type": "code",
   "execution_count": 2,
   "metadata": {},
   "outputs": [],
   "source": [
    "fit_params = {'N_s': 1,\n",
    "              'T_degC_0': 25,\n",
    "              'I_sc_A_0': 8.094518421606537,\n",
    "              'I_rs_1_A_0': 1.4589995736357878e-09,\n",
    "              'n_1_0': 1.0757610939475777,\n",
    "              'R_s_Ohm_0': 0.0061309204340856795,\n",
    "              'G_p_S_0': 0.010722597595424977,\n",
    "              'E_g_eV_0': 1.1}\n",
    "\n",
    "def  pvlib_iv(fit_params, v, t, f):\n",
    "    '''\n",
    "    Run pvlib I from V based on fit_params, for voltage (v),\n",
    "    temperature (t), effective irradiance (f).\n",
    "    '''\n",
    "    k = 8.61733e-5\n",
    "    nNsVth = fit_params['N_s'] * fit_params['n_1_0'] * k*(273.15+t)\n",
    "    current = pvlib.pvsystem.i_from_v(\n",
    "        1/fit_params['G_p_S_0'],\n",
    "        fit_params['R_s_Ohm_0'],\n",
    "        nNsVth,\n",
    "        v,\n",
    "        fit_params['I_rs_1_A_0'],\n",
    "        fit_params['I_sc_A_0'] * f\n",
    "        )\n",
    "    return current\n",
    "\n",
    "v = np.arange(-0.005, 0.630, 0.001)\n",
    "v = np.delete(v, [4,5])\n",
    "i = pvlib_iv(fit_params, v, 25, 1)"
   ]
  },
  {
   "cell_type": "markdown",
   "metadata": {},
   "source": [
    "# Use IV_Params"
   ]
  },
  {
   "cell_type": "code",
   "execution_count": 3,
   "metadata": {
    "scrolled": true
   },
   "outputs": [
    {
     "data": {
      "text/plain": [
       "{'voc': 0.6201052652961606,\n",
       " 'isc': 8.093975598317805,\n",
       " 'vmp': 0.49427401431662576,\n",
       " 'imp': 7.625752034772122,\n",
       " 'pmp': 3.769211070409994,\n",
       " 'ff': 0.7509709688475773}"
      ]
     },
     "execution_count": 3,
     "metadata": {},
     "output_type": "execute_result"
    }
   ],
   "source": [
    "iv = IV_Params(v, i)\n",
    "iv.calc_iv_params()"
   ]
  },
  {
   "cell_type": "code",
   "execution_count": 4,
   "metadata": {},
   "outputs": [
    {
     "data": {
      "image/png": "[encoded data removed]",
      "text/plain": [
       "<Figure size 432x288 with 1 Axes>"
      ]
     },
     "metadata": {
      "needs_background": "light"
     },
     "output_type": "display_data"
    }
   ],
   "source": [
    "fig = iv.plot_iv_result()"
   ]
  },
  {
   "cell_type": "code",
   "execution_count": 5,
   "metadata": {},
   "outputs": [
    {
     "data": {
      "image/png": "[encoded data removed]",
      "text/plain": [
       "<Figure size 432x288 with 1 Axes>"
      ]
     },
     "metadata": {
      "needs_background": "light"
     },
     "output_type": "display_data"
    }
   ],
   "source": [
    "fig = iv.plot_pv_result()"
   ]
  }
 ],
 "metadata": {
  "kernelspec": {
   "display_name": "Python 3 (ipykernel)",
   "language": "python",
   "name": "python3"
  },
  "language_info": {
   "codemirror_mode": {
    "name": "ipython",
    "version": 3
   },
   "file_extension": ".py",
   "mimetype": "text/x-python",
   "name": "python",
   "nbconvert_exporter": "python",
   "pygments_lexer": "ipython3",
   "version": "3.9.12"
  }
 },
 "nbformat": 4,
 "nbformat_minor": 2
}
